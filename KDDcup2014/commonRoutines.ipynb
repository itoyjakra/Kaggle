{
 "metadata": {
  "name": ""
 },
 "nbformat": 3,
 "nbformat_minor": 0,
 "worksheets": [
  {
   "cells": [
    {
     "cell_type": "code",
     "collapsed": false,
     "input": [
      "def processData(pickled.data):\n",
      "    essproj = pd.merge(essays, projects, on='projectid')\n",
      "    \n",
      "    # separate the training and test set based on cutoff date\n",
      "    setTrain = essproj[essproj['date_posted'] < '2014-01-01']\n",
      "    setTest = essproj[essproj['date_posted'] >= '2014-01-01']\n",
      "    \n",
      "    # merge the outcome of projects to the training data\n",
      "    selOutcome = outcomes[['projectid', 'is_exciting']]\n",
      "    setTrain = pd.merge(setTrain, selOutcome, on='projectid')\n",
      "    \n",
      "    return (trainData, testData)"
     ],
     "language": "python",
     "metadata": {},
     "outputs": []
    }
   ],
   "metadata": {}
  }
 ]
}